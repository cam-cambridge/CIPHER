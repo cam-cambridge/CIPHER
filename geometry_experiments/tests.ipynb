{
 "cells": [
  {
   "cell_type": "markdown",
   "metadata": {},
   "source": [
    "# Pr-Intern Tests"
   ]
  },
  {
   "cell_type": "code",
   "execution_count": 13,
   "metadata": {},
   "outputs": [],
   "source": [
    "from huggingface_hub import login\n",
    "import matplotlib.pyplot as plt\n",
    "import torch\n",
    "\n",
    "from geometry_experiments.test_utils import *\n",
    "login(\n",
    "    token=\"...\"\n",
    ")"
   ]
  },
  {
   "cell_type": "markdown",
   "metadata": {},
   "source": [
    "## Experiment Configurations\n",
    "Define different experimental setups with various model configurations"
   ]
  },
  {
   "cell_type": "code",
   "execution_count": 3,
   "metadata": {},
   "outputs": [],
   "source": [
    "experiments={\n",
    "    'exp2':{'language':False,'vision':False,'expert':False,'lora':False,'path':\"meta-llama/Llama-3.2-11B-Vision-Instruct\"},\n",
    "}"
   ]
  },
  {
   "cell_type": "markdown",
   "metadata": {},
   "source": [
    "## Model loader"
   ]
  },
  {
   "cell_type": "code",
   "execution_count": 4,
   "metadata": {},
   "outputs": [
    {
     "name": "stderr",
     "output_type": "stream",
     "text": [
      "The model weights are not tied. Please use the `tie_weights` method before using the `infer_auto_device` function.\n"
     ]
    },
    {
     "data": {
      "application/vnd.jupyter.widget-view+json": {
       "model_id": "03318e545a414b68aa78599b7c6a5df1",
       "version_major": 2,
       "version_minor": 0
      },
      "text/plain": [
       "Loading checkpoint shards:   0%|          | 0/5 [00:00<?, ?it/s]"
      ]
     },
     "metadata": {},
     "output_type": "display_data"
    }
   ],
   "source": [
    "def load_and_prepare_model(experiment):\n",
    "    \n",
    "    model, processor, vision_expert = load_model_and_processor(\n",
    "        experiment,\n",
    "    )\n",
    "\n",
    "    model.eval()\n",
    "    return model, processor, vision_expert\n",
    "\n",
    "model, processor, vision_expert = load_and_prepare_model(experiments['exp2'])\n"
   ]
  },
  {
   "cell_type": "markdown",
   "metadata": {},
   "source": [
    "## Prompt preparation"
   ]
  },
  {
   "cell_type": "code",
   "execution_count": 16,
   "metadata": {},
   "outputs": [],
   "source": [
    "def high_level_planning(request):\n",
    "    with open(\"/home/cm2161/Documents/llama-manufacturing/pr-intern/geometry_experiments/0_high_level_planning.txt\", \"r\") as file:\n",
    "        prompt_template = file.read()\n",
    "    return prompt_template.replace(\"{request}\", f\"{request}\")\n",
    "\n",
    "def individual_ideation(request):\n",
    "    with open(\"/home/cm2161/Documents/llama-manufacturing/pr-intern/geometry_experiments/1_individual_ideation.txt\", \"r\") as file:\n",
    "        prompt_template = file.read()\n",
    "    return prompt_template.replace(\"{request}\", f\"{request}\")\n",
    "\n",
    "def low_level_planning(request):\n",
    "    with open(\"/home/cm2161/Documents/llama-manufacturing/pr-intern/geometry_experiments/2_low_level_planning.txt\", \"r\") as file:\n",
    "        prompt_template = file.read()\n",
    "    return prompt_template.replace(\"{request}\", f\"{request}\")\n",
    "\n",
    "def gcode_generation(request):\n",
    "    with open(\"/home/cm2161/Documents/llama-manufacturing/pr-intern/geometry_experiments/3_gcode_generation.txt\", \"r\") as file:\n",
    "        prompt_template = file.read()\n",
    "    return prompt_template.replace(\"{request}\", f\"{request}\")\n",
    "\n",
    "request=\"A single layer circle with radius 10mm, and 100%  \\infill density with concentric pattern.\"\n",
    "steps=[individual_ideation(request)]\n"
   ]
  },
  {
   "cell_type": "markdown",
   "metadata": {},
   "source": [
    "## Answer Generation"
   ]
  },
  {
   "cell_type": "code",
   "execution_count": 17,
   "metadata": {},
   "outputs": [
    {
     "name": "stdout",
     "output_type": "stream",
     "text": [
      "Based on the provided high-level plan, I will break down the task into simpler tasks and create a Python function for each shape. We will start with the circle.\n",
      "\n",
      "### Circle Shape\n",
      "\n",
      "To create a circle in 3D printing, we will use the `G2` and `G3` G-code commands for arc movements. We will also use the `G1` command for linear movements.\n",
      "\n",
      "#### Circle G-code Generation Function\n",
      "\n",
      "```python\n",
      "def generate_circle_gcode(circle_properties):\n",
      "    \"\"\"\n",
      "    Generate G-code for a circle shape.\n",
      "\n",
      "    Args:\n",
      "        circle_properties (dict): Dictionary containing circle properties.\n",
      "            - type (str): Type of shape (always 'circle' for this function).\n",
      "            - geometric_properties (dict): Geometric properties of the circle.\n",
      "                - radius (float): Radius of the circle in mm.\n",
      "                - height (float): Height of the circle in mm (single layer).\n",
      "                - start_position (list): [x, y, z] coordinates of the start position.\n",
      "                - rotation (list): [x, y, z] rotation of the circle.\n",
      "            - infill (str): Infill pattern (always 'concentric' for this function).\n",
      "            - infill_density (str): Infill density (always '100%' for this function).\n",
      "            - layer_height (float): Layer height in mm.\n",
      "            - layers (int): Number of layers (always 1 for this function).\n",
      "\n",
      "    Returns:\n",
      "        str: G-code for the circle shape.\n",
      "    \"\"\"\n",
      "\n",
      "    # Extract circle properties\n",
      "    radius = circle_properties['geometric_properties']['radius']\n",
      "    height = circle_properties['geometric_properties']['height']\n",
      "    start_position = circle_properties['geometric_properties']['start_position']\n",
      "    rotation = circle_properties['geometric_properties']['rotation']\n",
      "    layer_height = circle_properties['layer_height']\n",
      "\n",
      "    # Calculate the number of points for the circle\n",
      "    num_points = int(2 * 3.14 * radius / layer_height)\n",
      "\n",
      "    # Initialize G-code string\n",
      "    gcode = \"\"\n",
      "\n",
      "    # Move to the start position\n",
      "    gcode += f\"G1 X{start_position[0]} Y{start_position[1]} Z{start_position[2]}\\n\"\n",
      "\n",
      "    # Rotate to the correct orientation\n",
      "    gcode += f\"G21 G92 E0\\n\"  # Set units to mm and reset extruder position\n",
      "    gcode += f\"G28 X0 Y0\\n\"  # Home X and Y axes\n",
      "    gcode += f\"G1 Z{start_position[2]}\\n\"  # Move to Z height\n",
      "    gcode += f\"G1 X{start_position[0]} Y{start_position[1]}\\n\"  # Move to start position\n",
      "    gcode += f\"G1 Z-{height}\\n\"  # Move down to the layer height\n",
      "    gcode += f\"G21 G92 E0\\n\"  # Set units to mm and reset extruder position\n",
      "\n",
      "    # Generate circle points\n",
      "    for i in range(num_points):\n",
      "        angle = 2 * 3.14 * i / num_points\n",
      "        x = start_position[0] + radius * math.cos(angle)\n",
      "        y = start_position[1] + radius * math.sin(angle)\n",
      "        z = start_position[2] - height\n",
      "        gcode += f\"G2 X{x} Y{y} I0 J0\\n\"\n",
      "\n",
      "    # Move back to the start position\n",
      "    gcode += f\"G1 X{start_position[0]} Y{start_position[1]}\\n\"\n",
      "\n",
      "    return gcode\n",
      "```\n",
      "\n",
      "This function generates the G-code for a circle shape based on the provided properties. It calculates the number of points for the circle, moves to the start position, rotates to the correct orientation, generates the circle points, and moves back to the start position.\n",
      "\n",
      "### Next Steps\n",
      "\n",
      "We will create functions for other shapes (e.g., rectangle, triangle, etc.) in a similar manner. We will also create a main function that takes the high-level plan as input and calls the corresponding shape functions to generate the G-code.\n",
      "\n",
      "Please let me know if you would like me to proceed with the next shape or if you have any questions about the circle function.\n"
     ]
    }
   ],
   "source": [
    "for i,step in enumerate(steps):\n",
    "\n",
    "    if i>0:\n",
    "        step = step.replace(\"{last_answer}\", last_answer)\n",
    "\n",
    "    with torch.no_grad():\n",
    "        batch_collated = val_collate_fn_text(step, processor).to(model.device)\n",
    "\n",
    "        # Generate outputs\n",
    "        output = model.generate(\n",
    "            **batch_collated,\n",
    "            max_new_tokens=10000,\n",
    "            temperature=0.1\n",
    "        )\n",
    "\n",
    "        # Process results\n",
    "        decoded_output = map(processor.decode, output)\n",
    "        answer = answer_extractor(decoded_output)\n",
    "        last_answer= answer[0]\n",
    "        print(last_answer)\n"
   ]
  },
  {
   "cell_type": "code",
   "execution_count": null,
   "metadata": {},
   "outputs": [],
   "source": [
    "def generate_circle_gcode(circle_properties):\n",
    "    \"\"\"\n",
    "    Generate G-code for a circle shape.\n",
    "\n",
    "    Args:\n",
    "        circle_properties (dict): Dictionary containing circle properties.\n",
    "            - type (str): Type of shape (always 'circle' for this function).\n",
    "            - geometric_properties (dict): Geometric properties of the circle.\n",
    "                - radius (float): Radius of the circle in mm.\n",
    "                - height (float): Height of the circle in mm (single layer).\n",
    "                - start_position (list): [x, y, z] coordinates of the start position.\n",
    "                - rotation (list): [x, y, z] rotation of the circle.\n",
    "            - infill (str): Infill pattern (always 'concentric' for this function).\n",
    "            - infill_density (str): Infill density (always '100%' for this function).\n",
    "            - layer_height (float): Layer height in mm.\n",
    "            - layers (int): Number of layers (always 1 for this function).\n",
    "\n",
    "    Returns:\n",
    "        str: G-code for the circle shape.\n",
    "    \"\"\"\n",
    "\n",
    "    # Extract circle properties\n",
    "    radius = circle_properties['geometric_properties']['radius']\n",
    "    height = circle_properties['geometric_properties']['height']\n",
    "    start_position = circle_properties['geometric_properties']['start_position']\n",
    "    rotation = circle_properties['geometric_properties']['rotation']\n",
    "    layer_height = circle_properties['layer_height']\n",
    "\n",
    "    # Calculate the number of points for the circle\n",
    "    num_points = int(2 * 3.14 * radius / layer_height)\n",
    "\n",
    "    # Initialize G-code string\n",
    "    gcode = \"\"\n",
    "\n",
    "    # Move to the start position\n",
    "    gcode += f\"G1 X{start_position[0]} Y{start_position[1]} Z{start_position[2]}\\n\"\n",
    "\n",
    "    # Rotate to the correct orientation\n",
    "    gcode += f\"G21 G92 E0\\n\"  # Set units to mm and reset extruder position\n",
    "    gcode += f\"G28 X0 Y0\\n\"  # Home X and Y axes\n",
    "    gcode += f\"G1 Z{start_position[2]}\\n\"  # Move to Z height\n",
    "    gcode += f\"G1 X{start_position[0]} Y{start_position[1]}\\n\"  # Move to start position\n",
    "    gcode += f\"G1 Z-{height}\\n\"  # Move down to the layer height\n",
    "    gcode += f\"G21 G92 E0\\n\"  # Set units to mm and reset extruder position\n",
    "\n",
    "    # Generate circle points\n",
    "    for i in range(num_points):\n",
    "        angle = 2 * 3.14 * i / num_points\n",
    "        x = start_position[0] + radius * math.cos(angle)\n",
    "        y = start_position[1] + radius * math.sin(angle)\n",
    "        z = start_position[2] - height\n",
    "        gcode += f\"G2 X{x} Y{y} I0 J0\\n\"\n",
    "\n",
    "    # Move back to the start position\n",
    "    gcode += f\"G1 X{start_position[0]} Y{start_position[1]}\\n\"\n",
    "\n",
    "    return gcode\n",
    "\n"
   ]
  }
 ],
 "metadata": {
  "kernelspec": {
   "display_name": "Python 3 (ipykernel)",
   "language": "python",
   "name": "python3"
  }
 },
 "nbformat": 4,
 "nbformat_minor": 4
}
