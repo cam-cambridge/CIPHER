{
 "cells": [
  {
   "cell_type": "markdown",
   "metadata": {},
   "source": [
    "# Pr-Intern Tests"
   ]
  },
  {
   "cell_type": "code",
   "execution_count": 1,
   "metadata": {},
   "outputs": [],
   "source": [
    "from huggingface_hub import login\n",
    "import matplotlib.pyplot as plt\n",
    "import torch\n",
    "\n",
    "from reasoning_experiments.test_utils import *\n",
    "login(\n",
    "    token=\"...\"\n",
    ")"
   ]
  },
  {
   "cell_type": "markdown",
   "metadata": {},
   "source": [
    "## Experiment Configurations\n",
    "Define different experimental setups with various model configurations"
   ]
  },
  {
   "cell_type": "code",
   "execution_count": 2,
   "metadata": {},
   "outputs": [],
   "source": [
    "experiments={\n",
    "    'exp0':{'language':False,'vision':False,'expert':False,'lora':False,'RAG':False,'path':\"meta-llama/Llama-3.2-11B-Vision-Instruct\"},\n",
    "    'exp2':{'language':False,'vision':False,'expert':True,'lora':False,'RAG':False,'path':'/home/cm2161/rds/hpc-work/ex.2/checkpoint-279'},\n",
    "    # 'exp2+RAG':{'language':False,'vision':False,'expert':True,'lora':False,'RAG':True,'path':'/home/cm2161/rds/hpc-work/ex.2/checkpoint-279'},\n",
    "    # 'exp2+codebook':{'language':False,'vision':False,'expert':True,'lora':False,'codebook':True,'path':'/home/cm2161/rds/hpc-work/ex.2/checkpoint-279'},\n",
    "}"
   ]
  },
  {
   "cell_type": "markdown",
   "metadata": {},
   "source": [
    "## Model / datasets loader"
   ]
  },
  {
   "cell_type": "markdown",
   "metadata": {},
   "source": [
    "### Model"
   ]
  },
  {
   "cell_type": "code",
   "execution_count": 3,
   "metadata": {},
   "outputs": [],
   "source": [
    "def load_and_prepare_model(experiment):\n",
    "    \n",
    "    model, processor, vision_expert = load_model_and_processor(\n",
    "        experiment,\n",
    "    )\n",
    "\n",
    "    model.eval()\n",
    "    return model, processor, vision_expert"
   ]
  },
  {
   "cell_type": "markdown",
   "metadata": {},
   "source": [
    "### Naive control dataset"
   ]
  },
  {
   "cell_type": "code",
   "execution_count": 3,
   "metadata": {},
   "outputs": [
    {
     "ename": "FileNotFoundError",
     "evalue": "[Errno 2] No such file or directory: 'reasoning_experiments/vanilla_control/prompt.txt'",
     "output_type": "error",
     "traceback": [
      "\u001b[0;31m---------------------------------------------------------------------------\u001b[0m",
      "\u001b[0;31mFileNotFoundError\u001b[0m                         Traceback (most recent call last)",
      "Cell \u001b[0;32mIn[3], line 3\u001b[0m\n\u001b[1;32m      1\u001b[0m \u001b[38;5;28;01mimport\u001b[39;00m \u001b[38;5;21;01mrandom\u001b[39;00m\n\u001b[0;32m----> 3\u001b[0m \u001b[38;5;28;01mwith\u001b[39;00m \u001b[38;5;28;43mopen\u001b[39;49m\u001b[43m(\u001b[49m\u001b[38;5;124;43m\"\u001b[39;49m\u001b[38;5;124;43mreasoning_experiments/vanilla_control/prompt.txt\u001b[39;49m\u001b[38;5;124;43m\"\u001b[39;49m\u001b[43m,\u001b[49m\u001b[43m \u001b[49m\u001b[38;5;124;43m\"\u001b[39;49m\u001b[38;5;124;43mr\u001b[39;49m\u001b[38;5;124;43m\"\u001b[39;49m\u001b[43m)\u001b[49m \u001b[38;5;28;01mas\u001b[39;00m file:\n\u001b[1;32m      4\u001b[0m     prompt_template \u001b[38;5;241m=\u001b[39m file\u001b[38;5;241m.\u001b[39mread()\n\u001b[1;32m      6\u001b[0m tests \u001b[38;5;241m=\u001b[39m []\n",
      "File \u001b[0;32m~/Documents/llama-manufacturing/pr-intern/.venv/lib64/python3.11/site-packages/IPython/core/interactiveshell.py:324\u001b[0m, in \u001b[0;36m_modified_open\u001b[0;34m(file, *args, **kwargs)\u001b[0m\n\u001b[1;32m    317\u001b[0m \u001b[38;5;28;01mif\u001b[39;00m file \u001b[38;5;129;01min\u001b[39;00m {\u001b[38;5;241m0\u001b[39m, \u001b[38;5;241m1\u001b[39m, \u001b[38;5;241m2\u001b[39m}:\n\u001b[1;32m    318\u001b[0m     \u001b[38;5;28;01mraise\u001b[39;00m \u001b[38;5;167;01mValueError\u001b[39;00m(\n\u001b[1;32m    319\u001b[0m         \u001b[38;5;124mf\u001b[39m\u001b[38;5;124m\"\u001b[39m\u001b[38;5;124mIPython won\u001b[39m\u001b[38;5;124m'\u001b[39m\u001b[38;5;124mt let you open fd=\u001b[39m\u001b[38;5;132;01m{\u001b[39;00mfile\u001b[38;5;132;01m}\u001b[39;00m\u001b[38;5;124m by default \u001b[39m\u001b[38;5;124m\"\u001b[39m\n\u001b[1;32m    320\u001b[0m         \u001b[38;5;124m\"\u001b[39m\u001b[38;5;124mas it is likely to crash IPython. If you know what you are doing, \u001b[39m\u001b[38;5;124m\"\u001b[39m\n\u001b[1;32m    321\u001b[0m         \u001b[38;5;124m\"\u001b[39m\u001b[38;5;124myou can use builtins\u001b[39m\u001b[38;5;124m'\u001b[39m\u001b[38;5;124m open.\u001b[39m\u001b[38;5;124m\"\u001b[39m\n\u001b[1;32m    322\u001b[0m     )\n\u001b[0;32m--> 324\u001b[0m \u001b[38;5;28;01mreturn\u001b[39;00m \u001b[43mio_open\u001b[49m\u001b[43m(\u001b[49m\u001b[43mfile\u001b[49m\u001b[43m,\u001b[49m\u001b[43m \u001b[49m\u001b[38;5;241;43m*\u001b[39;49m\u001b[43margs\u001b[49m\u001b[43m,\u001b[49m\u001b[43m \u001b[49m\u001b[38;5;241;43m*\u001b[39;49m\u001b[38;5;241;43m*\u001b[39;49m\u001b[43mkwargs\u001b[49m\u001b[43m)\u001b[49m\n",
      "\u001b[0;31mFileNotFoundError\u001b[0m: [Errno 2] No such file or directory: 'reasoning_experiments/vanilla_control/prompt.txt'"
     ]
    }
   ],
   "source": [
    "import random\n",
    "\n",
    "with open(\"reasoning_experiments/vanilla_control/prompt.txt\", \"r\") as file:\n",
    "    prompt_template = file.read()\n",
    "\n",
    "tests = []\n",
    "for _ in range(100):\n",
    "    E = random.randint(30, 300) \n",
    "    F = random.randint(E-30, E+30)\n",
    "    ANSWER = (100 / E) * F\n",
    "\n",
    "    tests.append({\"context\":prompt_template.format(E=E, F=F), \"answer\":ANSWER})\n",
    "\n",
    "print(tests[0])\n",
    "\n",
    "naive_control_dataset = batchify(tests, batch_size=8)\n"
   ]
  },
  {
   "cell_type": "markdown",
   "metadata": {},
   "source": [
    "### Domain questions dataset"
   ]
  },
  {
   "cell_type": "code",
   "execution_count": 7,
   "metadata": {},
   "outputs": [
    {
     "name": "stdout",
     "output_type": "stream",
     "text": [
      "{'question': 'How do thermal gradients during FDM printing affect residual stress in polymer parts?'}\n"
     ]
    }
   ],
   "source": [
    "import json\n",
    "\n",
    "# Load domain questions from the JSON file\n",
    "with open(\"reasoning_experiments/domain_knowledge/3d_printing_questions.json\", \"r\") as file:\n",
    "    domain_questions = json.load(file)[\"questions\"]\n",
    "\n",
    "# Prepare the dataset for evaluation\n",
    "domain_qs = []\n",
    "for question in domain_questions:\n",
    "    domain_qs.append({\"question\": question})  # Placeholder for answers\n",
    "\n",
    "print(domain_qs[0])\n",
    "\n",
    "domain_questions_dataset = batchify(domain_qs, batch_size=8)\n"
   ]
  },
  {
   "cell_type": "markdown",
   "metadata": {},
   "source": [
    "### Emerging capabilities dataset"
   ]
  },
  {
   "cell_type": "code",
   "execution_count": 4,
   "metadata": {},
   "outputs": [
    {
     "name": "stdout",
     "output_type": "stream",
     "text": [
      "{'question': 'Given Information:\\n    estimated_flowrate = 85%\\n    firmware_flowrate = 100%\\n    material = ABS\\n    current_temperature = 220°C\\n    feed_rate = 1200 mm/s\\n\\nAnalyse the given information and select the most relevant adjustment.\\nPay attention to the validity of your statements!\\nWhile changing the extrusion flow rate may seem the best option, it is not always the best option.\\n    Consider physics, material properties, the current temperature and other things you know about additive manufacturing.\\nSuggest a single G-code command for the most effective parameter adjustment, if an adjustment is needed.\\n\\n**Output the gcode command in the gcode tag in this format: ```gcode <command>```**\\n    No other information should be within the gcode tag. Do not change lines either.\\n    If a command is not needed, just say ```gcode no_command```.\\n    If a command is needed, provide the G-code command within the ```gcode <command>``` tags.\\n'}\n"
     ]
    }
   ],
   "source": [
    "import json\n",
    "\n",
    "with open(\"reasoning_experiments/emerging_control/prompt.txt\", \"r\") as file:\n",
    "    prompt_template = file.read()\n",
    "\n",
    "with open(\"reasoning_experiments/emerging_control/system_command.txt\", \"r\") as file:\n",
    "    system_message = file.read()\n",
    "\n",
    "# Load case tests from the JSON file\n",
    "with open(\"reasoning_experiments/emerging_control/case_tests.json\", \"r\") as file:\n",
    "    case_tests = json.load(file)\n",
    "\n",
    "playbook = {    \"M104 - Set Hotend Temperature\": {\n",
    "    \"function\": \"M104\",\n",
    "    \"description\": \"Set a new target hot end temperature.\",\n",
    "    \"hyperlink\": \"https://marlinfw.org/docs/gcode/M104.html\"\n",
    "    },\n",
    "\n",
    "    \"M106 - Set Fan Speed\": {\n",
    "    \"function\": \"M106\",\n",
    "    \"description\": \"Turn on fan and set speed\",\n",
    "    \"hyperlink\": \"https://marlinfw.org/docs/gcode/M106.html\"\n",
    "    },\n",
    "\n",
    "    \"M220 - Set Feed rate\": {\n",
    "    \"function\": \"M220\",\n",
    "    \"description\": \"Set the feed rate for the extruder.\",\n",
    "    \"hyperlink\": \"https://marlinfw.org/docs/gcode/M220.html\"\n",
    "    },\n",
    "\n",
    "    \"M221 - Set Extrusion Flow Rate\": {\n",
    "    \"function\": \"M221\",\n",
    "    \"description\": \"Set the extrusion flow rate for the extruder.\",\n",
    "    \"hyperlink\": \"https://marlinfw.org/docs/gcode/M221.html\"\n",
    "    }\n",
    "}\n",
    "\n",
    "def get_entry_by_gcode(gcode_command):\n",
    "    for key, entry in playbook.items():\n",
    "        if entry['function'] == gcode_command:\n",
    "            return entry[\"hyperlink\"]\n",
    "    return None \n",
    "\n",
    "def format_scenario(scenario):\n",
    "    scenario_info = f\"\"\"Given Information:\n",
    "    estimated_flowrate = {scenario['Given Information']['estimated_flowrate']}\n",
    "    firmware_flowrate = {scenario['Given Information']['firmware_flowrate']}\n",
    "    material = {scenario['Given Information']['material']}\n",
    "    current_temperature = {scenario['Given Information']['current_temperature']}\n",
    "    feed_rate = {scenario['Given Information']['feed_rate']}\"\"\"\n",
    "\n",
    "    prompt = prompt_template.replace(\"{system}\", scenario_info)\n",
    "    return prompt\n",
    "\n",
    "scenarios = []\n",
    "for scenario in case_tests:\n",
    "    scenario = format_scenario(scenario)\n",
    "    scenarios.append({\"question\":scenario})\n",
    "\n",
    "case_control_dataset = batchify(scenarios, batch_size=1)\n",
    "print(case_control_dataset[0][0])"
   ]
  },
  {
   "cell_type": "code",
   "execution_count": 5,
   "metadata": {},
   "outputs": [],
   "source": [
    "import json\n",
    "import requests\n",
    "\n",
    "from bs4 import BeautifulSoup\n",
    "\n",
    "def fetch_gcode_details(hyperlink):\n",
    "    response = requests.get(hyperlink)\n",
    "    if response.status_code == 200:\n",
    "        soup = BeautifulSoup(response.text, 'html.parser')\n",
    "        details = soup.select_one('body > div.container.detail > div > div.col-lg-9.col-md-8.main')\n",
    "        return details.text if details else \"No details found\"\n",
    "    else:\n",
    "        return f\"Error fetching details: {response.status_code}\"\n",
    "\n",
    "# Load the G-code playbook\n",
    "with open('/home/cm2161/Documents/llama-manufacturing/pr-intern/reasoning_experiments/emerging_control/gcode_playbook.json') as f:\n",
    "    gcode_playbook = json.load(f)"
   ]
  },
  {
   "cell_type": "markdown",
   "metadata": {},
   "source": [
    "## Answer Generation"
   ]
  },
  {
   "cell_type": "markdown",
   "metadata": {},
   "source": [
    "### Test Naive Control, Llama, Ours"
   ]
  },
  {
   "cell_type": "code",
   "execution_count": 10,
   "metadata": {},
   "outputs": [],
   "source": [
    "# from tqdm import tqdm\n",
    "\n",
    "# experiment_results = {}\n",
    "\n",
    "# for key, value in experiments.items():\n",
    "#     print(f\"Validating: {key}\")\n",
    "\n",
    "#     # Load and prepare model components\n",
    "#     model, processor, vision_expert = load_and_prepare_model(value)\n",
    "\n",
    "#     # Test 1: Naive-control dataset evaluation\n",
    "#     experiment_answers = []\n",
    "#     experiment_answers_original = []\n",
    "#     for batch in tqdm(naive_control_dataset, desc=\"Processing domain control batches\"):\n",
    "#         with torch.no_grad():\n",
    "#             # Prepare batch\n",
    "#             batch_collated = val_collate_fn_text(\n",
    "#                 batch, \n",
    "#                 processor\n",
    "#             ).to(model.device)\n",
    "\n",
    "#             # Generate outputs\n",
    "#             outputs = model.generate(\n",
    "#                 **batch_collated,\n",
    "#                 max_new_tokens=1024,\n",
    "#                 temperature=0.2\n",
    "#             )\n",
    "\n",
    "#             # Process results\n",
    "#             decoded_outputs = map(processor.decode, outputs)\n",
    "#             answers = answer_extractor(decoded_outputs)\n",
    "#             answers = [round(float(answer.split('<M221 S')[1].split('>')[0]), 2) for answer in answers]\n",
    "#             original_answers = [round(float(item['answer']), 2) for item in batch]\n",
    "\n",
    "#             experiment_answers.extend(answers)\n",
    "#             experiment_answers_original.extend(original_answers)\n",
    "\n",
    "#             # Save vision results\n",
    "#             results_df = pd.DataFrame({\n",
    "#                 'answers': experiment_answers,\n",
    "#                 'answers_original': experiment_answers_original,\n",
    "#             })\n",
    "#             results_df.to_csv(f'reasoning_experiments/naive_control_experiment_results_{key}.csv',\n",
    "#                             index=True,\n",
    "#                             index_label='control_id')\n",
    "\n"
   ]
  },
  {
   "cell_type": "markdown",
   "metadata": {},
   "source": [
    "### Test domain expertise, Llama, Ours, Ours+RAG"
   ]
  },
  {
   "cell_type": "code",
   "execution_count": 11,
   "metadata": {},
   "outputs": [],
   "source": [
    "# from tqdm import tqdm\n",
    "\n",
    "\n",
    "# for key, value in experiments.items():\n",
    "\n",
    "#     results = []\n",
    "\n",
    "#     print(f\"Validating: {key}\")\n",
    "\n",
    "#     # Load and prepare model components\n",
    "#     model, processor, vision_expert = load_and_prepare_model(value)\n",
    "\n",
    "#     # Test 2: Domain-specific QA evaluation\n",
    "#     for batch in tqdm(domain_questions_dataset, desc=\"Processing domain questions batches\"):\n",
    "#         with torch.no_grad():\n",
    "#             # Prepare batch\n",
    "#             batch_collated = val_collate_fn(\n",
    "#                 batch, \n",
    "#                 processor,\n",
    "#                 RAG = True if value['RAG'] else False\n",
    "#                 ).to(model.device)\n",
    "\n",
    "#             # Generate outputs\n",
    "#             outputs = model.generate(\n",
    "#                 **batch_collated,\n",
    "#                 max_new_tokens=1024,\n",
    "#                 temperature=0.2\n",
    "#             )\n",
    "            \n",
    "#             decoded_outputs = map(processor.decode, outputs)\n",
    "#             answers = answer_extractor(decoded_outputs)\n",
    "\n",
    "#             for example, answer in zip(batch, answers):\n",
    "#                 question = example['question']\n",
    "#                 results.append({\n",
    "#                     \"questions\": question,\n",
    "#                     \"answer\": answer\n",
    "#                 })\n",
    "\n",
    "#     # Write the results to a JSON file\n",
    "#     with open(f'reasoning_experiments/domain_expertise_experiment_results_{key}.json', \"w\") as file:\n",
    "#         json.dump(results, file, indent=4)"
   ]
  },
  {
   "cell_type": "markdown",
   "metadata": {},
   "source": [
    "### Test emerging capabilities, Llama, Ours, Ours+Codebook"
   ]
  },
  {
   "cell_type": "code",
   "execution_count": 5,
   "metadata": {},
   "outputs": [
    {
     "name": "stdout",
     "output_type": "stream",
     "text": [
      "Validating: exp0\n"
     ]
    },
    {
     "name": "stderr",
     "output_type": "stream",
     "text": [
      "The model weights are not tied. Please use the `tie_weights` method before using the `infer_auto_device` function.\n"
     ]
    },
    {
     "data": {
      "application/vnd.jupyter.widget-view+json": {
       "model_id": "33732b58b5664cf0bb90462d2d260f00",
       "version_major": 2,
       "version_minor": 0
      },
      "text/plain": [
       "Loading checkpoint shards:   0%|          | 0/5 [00:00<?, ?it/s]"
      ]
     },
     "metadata": {},
     "output_type": "display_data"
    },
    {
     "name": "stderr",
     "output_type": "stream",
     "text": [
      "Processing emerging capabilities batches:  20%|█████████                                    | 10/50 [01:16<04:52,  7.32s/it]"
     ]
    }
   ],
   "source": [
    "from tqdm import tqdm\n",
    "\n",
    "for key, value in experiments.items():\n",
    "    \n",
    "    results = []\n",
    "    print(f\"Validating: {key}\")\n",
    "\n",
    "    # Load and prepare model components\n",
    "    model, processor, vision_expert = load_and_prepare_model(value)\n",
    "\n",
    "    # Test 3: Emerging capabilities evaluation\n",
    "    for batch in tqdm(case_control_dataset, desc=\"Processing emerging capabilities batches\"):\n",
    "\n",
    "        with open(\"reasoning_experiments/emerging_control/system_command.txt\", \"r\") as file:\n",
    "            system_message = file.read()\n",
    "\n",
    "        # print(\"Given information:\", batch[0]['question'])\n",
    "\n",
    "        for step in [0]:\n",
    "            \n",
    "            if step == 1:\n",
    "\n",
    "                ### RAG\n",
    "                embedding = generate_RAG_embedding(answers[0])\n",
    "                if embedding is not None:\n",
    "                    similarities = []\n",
    "                    for fact in processed_facts:\n",
    "                        embedding_array = np.array(embedding)  # Convert to NumPy array\n",
    "                        embedding_reshaped = embedding_array.reshape(1, -1)  # Reshape to 2D\n",
    "                        similarity = cosine_similarity(embedding_reshaped, np.array(fact['embedding']).reshape(1, -1))\n",
    "                        similarities.append(similarity)\n",
    "\n",
    "                # Keep N most relevant facts\n",
    "                N = 5  # Set the number of relevant facts to keep\n",
    "                top_indices = sorted(range(len(similarities)), key=lambda i: similarities[i], reverse=True)[:N]\n",
    "                relevant_facts = [processed_facts[i] for i in top_indices]\n",
    "                relevant_facts_string = \"\\n| \".join([fact['original_fact'] for fact in relevant_facts])\n",
    "                system_message += f\"\\n\\nMore relevant information: {relevant_facts_string}\"\n",
    "\n",
    "                ### Codebook\n",
    "                try:                \n",
    "                    gcode_command = answers[0].split('gcode')[1].split('```')[0]\n",
    "                    gcode_command = gcode_command.strip().split(\" \")[0]\n",
    "                    gcode_info = get_entry_by_gcode(gcode_command)\n",
    "                    details= fetch_gcode_details(gcode_info)\n",
    "                    system_message += f\"\\n\\nMore relevant information: {details}\"\n",
    "                except:\n",
    "                    system_message+=\"It is likely that the G-code command is not needed.\"\n",
    "\n",
    "            with torch.no_grad():\n",
    "                # Prepare batch\n",
    "                batch_collated = val_collate_fn(\n",
    "                    batch, \n",
    "                    processor,\n",
    "                    system_message=system_message\n",
    "                    ).to(model.device)\n",
    "    \n",
    "                # Generate outputs\n",
    "                outputs = model.generate(\n",
    "                    **batch_collated,\n",
    "                    max_new_tokens=200,\n",
    "                    temperature=0.1\n",
    "                )\n",
    "                decoded_outputs = map(processor.decode, outputs)\n",
    "                answers = answer_extractor(decoded_outputs)\n",
    "\n",
    "                try:\n",
    "                    gcode_commands = answers.split('```gcode')[1].split('```')[0]\n",
    "                    print(gcode_commands)\n",
    "                except:\n",
    "                    gcode_command = None\n",
    "\n",
    "        for example, answer in zip(batch, answers):\n",
    "            question = example['question']\n",
    "            results.append({\n",
    "                \"questions\": question,\n",
    "                \"command\": gcode_command,\n",
    "                \"answer\": answer\n",
    "            })\n",
    "\n",
    "    # Write the results to a JSON file\n",
    "    with open(f'reasoning_experiments/emerging_control_experiment_results_{key}', \"w\") as file:\n",
    "        json.dump(results, file, indent=4)"
   ]
  },
  {
   "cell_type": "markdown",
   "metadata": {},
   "source": [
    "## Evaluation"
   ]
  },
  {
   "cell_type": "code",
   "execution_count": 14,
   "metadata": {},
   "outputs": [
    {
     "data": {
      "image/png": "[encoded data removed]",
      "text/plain": [
       "<Figure size 1574.8x1000 with 1 Axes>"
      ]
     },
     "metadata": {},
     "output_type": "display_data"
    }
   ],
   "source": [
    "import pandas as pd\n",
    "import numpy as np\n",
    "import matplotlib.pyplot as plt\n",
    "\n",
    "# Create a single figure for all bar charts\n",
    "fig, ax = plt.subplots(figsize=(1.5748, 1), dpi=1000)\n",
    "\n",
    "# Store errors for all experiments\n",
    "all_errors = []\n",
    "all_std_errors = []  # To store standard errors\n",
    "labels = []\n",
    "\n",
    "for key in [ \"gpt4o-mini\", \"exp0\", \"exp2\",]:\n",
    "    # Load results\n",
    "    results_df = pd.read_csv(f'/home/cm2161/Documents/llama-manufacturing/pr-intern/reasoning_experiments/vanilla_control/naive_control_experiment_results_{key}.csv')\n",
    "    errors = np.abs(results_df['answers'] - results_df['answers_original'])\n",
    "    all_errors.append(errors.mean())  # Use mean error for bar height\n",
    "    all_std_errors.append(errors.std()*0.5)  # Use std error for error bars\n",
    "    labels.append(f\"ex.{key[-1]}\")\n",
    "\n",
    "# Create bar chart with error bars\n",
    "ax.bar(\n",
    "    labels, \n",
    "    all_errors, \n",
    "    yerr=all_std_errors,  # Add standard error bars\n",
    "    capsize=1, \n",
    "    width=0.6, \n",
    "    linewidth=0.5,              # Line thickness for bars\n",
    "    error_kw={'elinewidth': 0.5, 'capthick': 0.5},  # Error bar style\n",
    ")\n",
    "\n",
    "ax = plt.gca()\n",
    "ax.spines['left'].set_visible(True)\n",
    "ax.spines['right'].set_visible(True)\n",
    "ax.spines['bottom'].set_visible(True)\n",
    "ax.spines['top'].set_visible(True)\n",
    "\n",
    "# Set x-ticks and labels\n",
    "ax.tick_params(axis='x', bottom=True, labelbottom=False)  # Remove x-ticks and labels\n",
    "ax.tick_params(axis='both', labelsize=5, width=0.5,  length=2)  # Tick line thickness\n",
    "\n",
    "# Adjust border thickness\n",
    "tick_lines = ['top', 'bottom', 'left', 'right']\n",
    "for spine in tick_lines:\n",
    "    ax.spines[spine].set_linewidth(0.5)\n",
    "\n",
    "# Remove any padding\n",
    "plt.tight_layout(pad=0)\n",
    "plt.show()\n"
   ]
  },
  {
   "cell_type": "code",
   "execution_count": null,
   "metadata": {},
   "outputs": [],
   "source": [
    "# Store accuracies and std for all experiments\n",
    "all_accuracies = []\n",
    "all_stds = []\n",
    "labels = []\n",
    "\n",
    "def bootstrap_accuracy(y_true, y_pred, n_iterations=1000):\n",
    "    accuracies = []\n",
    "    n_samples = len(y_true)\n",
    "    \n",
    "    for _ in range(n_iterations):\n",
    "        # Random sampling with replacement\n",
    "        indices = np.random.randint(0, n_samples, n_samples)\n",
    "        boot_true = y_true.iloc[indices]\n",
    "        boot_pred = y_pred.iloc[indices]\n",
    "        \n",
    "        # Calculate accuracy for this bootstrap sample\n",
    "        accuracy = (boot_true == boot_pred).mean() * 100\n",
    "        accuracies.append(accuracy)\n",
    "    \n",
    "    return np.mean(accuracies), np.std(accuracies)\n",
    "\n",
    "for key in experiments.keys():\n",
    "    # Load results\n",
    "    results_df = pd.read_csv(f'/home/cm2161/Documents/llama-manufacturing/pr-intern/experiments/caxton/caxton_experiment_results_{key}.csv')\n",
    "    \n",
    "    if 'y_class' in results_df.columns and 'y_class_hat' in results_df.columns:\n",
    "        # Calculate accuracy and std using bootstrapping\n",
    "        mean_acc, std_acc = bootstrap_accuracy(\n",
    "            results_df['y_class'], \n",
    "            results_df['y_class_hat']\n",
    "        )\n",
    "        all_accuracies.append(mean_acc)\n",
    "        all_stds.append(std_acc)\n",
    "        labels.append(f\"ex.{key[-1]}\")\n",
    "\n",
    "# Create figure with broken axis\n",
    "mm_to_inches = 0.0393701\n",
    "fig_size_inches = 33 * mm_to_inches\n",
    "\n",
    "fig, (ax1, ax2) = plt.subplots(1, 2, \n",
    "                              figsize=(fig_size_inches, fig_size_inches), \n",
    "                              dpi=1200,\n",
    "                              gridspec_kw={'width_ratios': [1, 1], 'wspace': 0.05})\n",
    "\n",
    "# Plot in both axes with error bars\n",
    "for ax in [ax1, ax2]:\n",
    "    ax.barh(labels, all_accuracies, \n",
    "            height=0.5,\n",
    "            xerr=all_stds,\n",
    "            color='lightgrey',\n",
    "            edgecolor='black',\n",
    "            linewidth=0.5,\n",
    "            error_kw={'ecolor': 'black', \n",
    "                     'capsize': 2, \n",
    "                     'capthick': 0.5, \n",
    "                     'elinewidth': 0.5})\n",
    "    \n",
    "    # Style plot\n",
    "    ax.spines['left'].set_visible(False)\n",
    "    ax.spines['right'].set_visible(False)\n",
    "    ax.spines['bottom'].set_visible(False)\n",
    "    ax.spines['top'].set_visible(False)\n",
    "    ax.set_yticks([])\n",
    "    ax.set_xticks([])\n",
    "    ax.invert_yaxis()\n",
    "\n",
    "# Add white spine between broken axes\n",
    "ax1.spines['right'].set_visible(True)\n",
    "ax1.spines['right'].set_color('white')\n",
    "\n",
    "# Set different limits for each axis\n",
    "ax1.set_xlim(0, 40)  # First segment shows 0-30\n",
    "ax2.set_xlim(70, 100)  # Second segment shows 70-100\n",
    "\n",
    "ax1.set_xticks([0.1, 10, 20, 30, 39.5])\n",
    "ax1.set_xticklabels([])  # Remove x-axis labels\n",
    "ax1.tick_params(axis='x', length=0)  # Remove tick marks\n",
    "ax1.grid(True, axis='x', linestyle='-', color='lightgrey', linewidth=0.25, alpha=1, zorder=0)\n",
    "ax1.set_axisbelow(True)\n",
    "\n",
    "ax2.set_xticks([70.1, 80, 90, 99.5])\n",
    "ax2.set_xticklabels([])  # Remove x-axis labels\n",
    "ax2.tick_params(axis='x', length=0)  # Remove tick marks\n",
    "ax2.grid(True, axis='x', linestyle='-', color='lightgrey', linewidth=0.25, alpha=1)\n",
    "ax2.set_axisbelow(True)\n",
    "\n",
    "# Replace plt.tight_layout(pad=0) with:\n",
    "plt.subplots_adjust(\n",
    "    left=0,    # Remove left margin\n",
    "    right=1,   # Remove right margin\n",
    "    bottom=0,  # Remove bottom margin\n",
    "    top=1,     # Remove top margin\n",
    "    wspace=0.1 # Keep small spacing between subplots\n",
    ")\n",
    "plt.show()"
   ]
  }
 ],
 "metadata": {
  "kernelspec": {
   "display_name": "Python (GPU Node)",
   "language": "python",
   "name": "gpu_kernel"
  },
  "language_info": {
   "codemirror_mode": {
    "name": "ipython",
    "version": 3
   },
   "file_extension": ".py",
   "mimetype": "text/x-python",
   "name": "python",
   "nbconvert_exporter": "python",
   "pygments_lexer": "ipython3",
   "version": "3.11.9"
  }
 },
 "nbformat": 4,
 "nbformat_minor": 4
}
